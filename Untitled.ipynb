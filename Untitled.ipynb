{
 "cells": [
  {
   "cell_type": "code",
   "execution_count": 1,
   "metadata": {
    "collapsed": true
   },
   "outputs": [],
   "source": [
    "import pandas as pd\n",
    "import requests"
   ]
  },
  {
   "cell_type": "code",
   "execution_count": 3,
   "metadata": {},
   "outputs": [],
   "source": [
    "response = requests.get('http://swapi.co/api/people/10/')"
   ]
  },
  {
   "cell_type": "code",
   "execution_count": 7,
   "metadata": {},
   "outputs": [
    {
     "data": {
      "text/plain": [
       "{'birth_year': '57BBY',\n",
       " 'created': '2014-12-10T16:16:29.192000Z',\n",
       " 'edited': '2014-12-20T21:17:50.325000Z',\n",
       " 'eye_color': 'blue-gray',\n",
       " 'films': ['https://swapi.co/api/films/2/',\n",
       "  'https://swapi.co/api/films/5/',\n",
       "  'https://swapi.co/api/films/4/',\n",
       "  'https://swapi.co/api/films/6/',\n",
       "  'https://swapi.co/api/films/3/',\n",
       "  'https://swapi.co/api/films/1/'],\n",
       " 'gender': 'male',\n",
       " 'hair_color': 'auburn, white',\n",
       " 'height': '182',\n",
       " 'homeworld': 'https://swapi.co/api/planets/20/',\n",
       " 'mass': '77',\n",
       " 'name': 'Obi-Wan Kenobi',\n",
       " 'skin_color': 'fair',\n",
       " 'species': ['https://swapi.co/api/species/1/'],\n",
       " 'starships': ['https://swapi.co/api/starships/48/',\n",
       "  'https://swapi.co/api/starships/59/',\n",
       "  'https://swapi.co/api/starships/64/',\n",
       "  'https://swapi.co/api/starships/65/',\n",
       "  'https://swapi.co/api/starships/74/'],\n",
       " 'url': 'https://swapi.co/api/people/10/',\n",
       " 'vehicles': ['https://swapi.co/api/vehicles/38/']}"
      ]
     },
     "execution_count": 7,
     "metadata": {},
     "output_type": "execute_result"
    }
   ],
   "source": [
    "response.json()"
   ]
  },
  {
   "cell_type": "code",
   "execution_count": 9,
   "metadata": {},
   "outputs": [
    {
     "data": {
      "text/html": [
       "<div>\n",
       "<style>\n",
       "    .dataframe thead tr:only-child th {\n",
       "        text-align: right;\n",
       "    }\n",
       "\n",
       "    .dataframe thead th {\n",
       "        text-align: left;\n",
       "    }\n",
       "\n",
       "    .dataframe tbody tr th {\n",
       "        vertical-align: top;\n",
       "    }\n",
       "</style>\n",
       "<table border=\"1\" class=\"dataframe\">\n",
       "  <thead>\n",
       "    <tr style=\"text-align: right;\">\n",
       "      <th></th>\n",
       "      <th>birth_year</th>\n",
       "      <th>created</th>\n",
       "      <th>edited</th>\n",
       "      <th>eye_color</th>\n",
       "      <th>films</th>\n",
       "      <th>gender</th>\n",
       "      <th>hair_color</th>\n",
       "      <th>height</th>\n",
       "      <th>homeworld</th>\n",
       "      <th>mass</th>\n",
       "      <th>name</th>\n",
       "      <th>skin_color</th>\n",
       "      <th>species</th>\n",
       "      <th>starships</th>\n",
       "      <th>url</th>\n",
       "      <th>vehicles</th>\n",
       "    </tr>\n",
       "  </thead>\n",
       "  <tbody>\n",
       "    <tr>\n",
       "      <th>0</th>\n",
       "      <td>57BBY</td>\n",
       "      <td>2014-12-10T16:16:29.192000Z</td>\n",
       "      <td>2014-12-20T21:17:50.325000Z</td>\n",
       "      <td>blue-gray</td>\n",
       "      <td>[https://swapi.co/api/films/2/, https://swapi....</td>\n",
       "      <td>male</td>\n",
       "      <td>auburn, white</td>\n",
       "      <td>182</td>\n",
       "      <td>https://swapi.co/api/planets/20/</td>\n",
       "      <td>77</td>\n",
       "      <td>Obi-Wan Kenobi</td>\n",
       "      <td>fair</td>\n",
       "      <td>[https://swapi.co/api/species/1/]</td>\n",
       "      <td>[https://swapi.co/api/starships/48/, https://s...</td>\n",
       "      <td>https://swapi.co/api/people/10/</td>\n",
       "      <td>[https://swapi.co/api/vehicles/38/]</td>\n",
       "    </tr>\n",
       "  </tbody>\n",
       "</table>\n",
       "</div>"
      ],
      "text/plain": [
       "  birth_year                      created                       edited  \\\n",
       "0      57BBY  2014-12-10T16:16:29.192000Z  2014-12-20T21:17:50.325000Z   \n",
       "\n",
       "   eye_color                                              films gender  \\\n",
       "0  blue-gray  [https://swapi.co/api/films/2/, https://swapi....   male   \n",
       "\n",
       "      hair_color height                         homeworld mass  \\\n",
       "0  auburn, white    182  https://swapi.co/api/planets/20/   77   \n",
       "\n",
       "             name skin_color                            species  \\\n",
       "0  Obi-Wan Kenobi       fair  [https://swapi.co/api/species/1/]   \n",
       "\n",
       "                                           starships  \\\n",
       "0  [https://swapi.co/api/starships/48/, https://s...   \n",
       "\n",
       "                               url                             vehicles  \n",
       "0  https://swapi.co/api/people/10/  [https://swapi.co/api/vehicles/38/]  "
      ]
     },
     "execution_count": 9,
     "metadata": {},
     "output_type": "execute_result"
    }
   ],
   "source": [
    "#putting this in a nice Dataframe\n",
    "\n",
    "pd.DataFrame([response.json()])"
   ]
  },
  {
   "cell_type": "code",
   "execution_count": 10,
   "metadata": {
    "collapsed": true
   },
   "outputs": [],
   "source": [
    "#google will shut you down pretty quickly if you make too many calls\n",
    "response = requests.get('https://maps.googleapis.com/maps/api/geocode/json?address=225+Bush+St+San+Francisco+CA')"
   ]
  },
  {
   "cell_type": "code",
   "execution_count": 15,
   "metadata": {},
   "outputs": [],
   "source": [
    "google_response = response.json()"
   ]
  },
  {
   "cell_type": "code",
   "execution_count": 14,
   "metadata": {},
   "outputs": [
    {
     "data": {
      "text/plain": [
       "requests.models.Response"
      ]
     },
     "execution_count": 14,
     "metadata": {},
     "output_type": "execute_result"
    }
   ],
   "source": [
    "type(response)"
   ]
  },
  {
   "cell_type": "code",
   "execution_count": 20,
   "metadata": {
    "scrolled": true
   },
   "outputs": [
    {
     "data": {
      "text/plain": [
       "{'results': [{'address_components': [{'long_name': '225',\n",
       "     'short_name': '225',\n",
       "     'types': ['street_number']},\n",
       "    {'long_name': 'Bush Street', 'short_name': 'Bush St', 'types': ['route']},\n",
       "    {'long_name': 'Financial District',\n",
       "     'short_name': 'Financial District',\n",
       "     'types': ['neighborhood', 'political']},\n",
       "    {'long_name': 'San Francisco',\n",
       "     'short_name': 'SF',\n",
       "     'types': ['locality', 'political']},\n",
       "    {'long_name': 'San Francisco County',\n",
       "     'short_name': 'San Francisco County',\n",
       "     'types': ['administrative_area_level_2', 'political']},\n",
       "    {'long_name': 'California',\n",
       "     'short_name': 'CA',\n",
       "     'types': ['administrative_area_level_1', 'political']},\n",
       "    {'long_name': 'United States',\n",
       "     'short_name': 'US',\n",
       "     'types': ['country', 'political']},\n",
       "    {'long_name': '94104', 'short_name': '94104', 'types': ['postal_code']}],\n",
       "   'formatted_address': '225 Bush St, San Francisco, CA 94104, USA',\n",
       "   'geometry': {'location': {'lat': 37.7908343, 'lng': -122.4015725},\n",
       "    'location_type': 'ROOFTOP',\n",
       "    'viewport': {'northeast': {'lat': 37.7921832802915,\n",
       "      'lng': -122.4002235197085},\n",
       "     'southwest': {'lat': 37.7894853197085, 'lng': -122.4029214802915}}},\n",
       "   'place_id': 'ChIJZXDI4YmAhYAReSK9_qXi2Oo',\n",
       "   'types': ['street_address']}],\n",
       " 'status': 'OK'}"
      ]
     },
     "execution_count": 20,
     "metadata": {},
     "output_type": "execute_result"
    }
   ],
   "source": [
    "google_response"
   ]
  },
  {
   "cell_type": "code",
   "execution_count": 46,
   "metadata": {},
   "outputs": [
    {
     "name": "stdout",
     "output_type": "stream",
     "text": [
      "dict_keys(['results', 'status'])\n",
      "dict_keys(['address_components', 'formatted_address', 'geometry', 'place_id', 'types'])\n",
      "dict_keys(['location', 'location_type', 'viewport'])\n"
     ]
    },
    {
     "data": {
      "text/plain": [
       "{'lat': 37.7908343, 'lng': -122.4015725}"
      ]
     },
     "execution_count": 46,
     "metadata": {},
     "output_type": "execute_result"
    }
   ],
   "source": [
    "#a list of results and status\n",
    "# a list of 1, hence pull [0]\n",
    "# pull in ['geometry'] list\n",
    "# pull in ['location'] list\n",
    "\n",
    "#dictionary, use .keys\n",
    "print(google_response.keys())\n",
    "print(google_response['results'][0].keys())\n",
    "print(google_response['results'][0]['geometry'].keys())\n",
    "\n",
    "google_response['results'][0]['geometry']['location']\n",
    "    "
   ]
  },
  {
   "cell_type": "code",
   "execution_count": 82,
   "metadata": {
    "collapsed": true
   },
   "outputs": [],
   "source": [
    "import json, requests\n",
    "url = 'https://api.foursquare.com/v2/venues/explore'\n",
    "\n",
    "params = dict(\n",
    "  client_id='4BH5GQ2FOARXBLSN0FN4INSUB22P4JCNG2X3Q454OJXMFA1Z',\n",
    "  client_secret='FGXPNLEBR3AVRIMGES0IR2M5WOCRHEVDYSNNUMN1VYSK3TE1',\n",
    "  v='20170801',\n",
    "  ll='40.7243,-74.0018',\n",
    "  query='bread',\n",
    "  limit=1\n",
    ")\n",
    "resp = requests.get(url=url, params=params)\n",
    "data = json.loads(resp.text)"
   ]
  },
  {
   "cell_type": "code",
   "execution_count": 83,
   "metadata": {},
   "outputs": [
    {
     "data": {
      "text/plain": [
       "{'meta': {'code': 200, 'requestId': '5aa1fa9edb04f53651a4f0a3'},\n",
       " 'response': {'groups': [{'items': [{'flags': {'outsideRadius': True},\n",
       "      'reasons': {'count': 0,\n",
       "       'items': [{'reasonName': 'globalInteractionReason',\n",
       "         'summary': 'This spot is popular',\n",
       "         'type': 'general'}]},\n",
       "      'referralId': 'e-0-4502fa36f964a520d4381fe3-0',\n",
       "      'tips': [{'agreeCount': 0,\n",
       "        'canonicalUrl': 'https://foursquare.com/item/557d8b89498e6a8003a887eb',\n",
       "        'createdAt': 1434291081,\n",
       "        'disagreeCount': 0,\n",
       "        'entities': [{'indices': [0, 5], 'type': 'search_match'}],\n",
       "        'id': '557d8b89498e6a8003a887eb',\n",
       "        'logView': True,\n",
       "        'text': 'Bread, sandwiches',\n",
       "        'todo': {'count': 0},\n",
       "        'type': 'user',\n",
       "        'user': {'firstName': 'CCnyc',\n",
       "         'gender': 'female',\n",
       "         'id': '94128259',\n",
       "         'photo': {'default': True,\n",
       "          'prefix': 'https://igx.4sqi.net/img/user/',\n",
       "          'suffix': '/blank_girl.png'}}}],\n",
       "      'venue': {'allowMenuUrlEdit': True,\n",
       "       'beenHere': {'count': 0, 'lastCheckinExpiredAt': 0, 'marked': False},\n",
       "       'categories': [{'icon': {'prefix': 'https://ss3.4sqi.net/img/categories_v2/food/bakery_',\n",
       "          'suffix': '.png'},\n",
       "         'id': '4bf58dd8d48988d16a941735',\n",
       "         'name': 'Bakery',\n",
       "         'pluralName': 'Bakeries',\n",
       "         'primary': True,\n",
       "         'shortName': 'Bakery'}],\n",
       "       'contact': {'formattedPhone': '(212) 675-7802', 'phone': '2126757802'},\n",
       "       'hasMenu': True,\n",
       "       'hereNow': {'count': 0, 'groups': [], 'summary': 'Nobody here'},\n",
       "       'hours': {'isLocalHoliday': False,\n",
       "        'isOpen': True,\n",
       "        'richStatus': {'entities': [], 'text': 'Open until 11:00 PM'},\n",
       "        'status': 'Open until 11:00 PM'},\n",
       "       'id': '4502fa36f964a520d4381fe3',\n",
       "       'location': {'address': '250 Bleecker St',\n",
       "        'cc': 'US',\n",
       "        'city': 'New York',\n",
       "        'country': 'United States',\n",
       "        'crossStreet': 'at Leroy St',\n",
       "        'distance': 741,\n",
       "        'formattedAddress': ['250 Bleecker St (at Leroy St)',\n",
       "         'New York, NY 10014',\n",
       "         'United States'],\n",
       "        'labeledLatLngs': [{'label': 'display',\n",
       "          'lat': 40.73091402473436,\n",
       "          'lng': -74.0028611106803}],\n",
       "        'lat': 40.73091402473436,\n",
       "        'lng': -74.0028611106803,\n",
       "        'postalCode': '10014',\n",
       "        'state': 'NY'},\n",
       "       'menu': {'anchor': 'View Menu',\n",
       "        'label': 'Menu',\n",
       "        'mobileUrl': 'https://foursquare.com/v/4502fa36f964a520d4381fe3/device_menu',\n",
       "        'type': 'Menu',\n",
       "        'url': 'https://foursquare.com/v/amys-bread/4502fa36f964a520d4381fe3/menu'},\n",
       "       'name': \"Amy's Bread\",\n",
       "       'photos': {'count': 0, 'groups': []},\n",
       "       'price': {'currency': '$', 'message': 'Moderate', 'tier': 2},\n",
       "       'rating': 8.9,\n",
       "       'ratingColor': '73CF42',\n",
       "       'ratingSignals': 277,\n",
       "       'stats': {'checkinsCount': 8345, 'tipCount': 96, 'usersCount': 3904},\n",
       "       'url': 'http://www.amysbread.com',\n",
       "       'verified': True}}],\n",
       "    'name': 'recommended',\n",
       "    'type': 'Recommended Places'}],\n",
       "  'headerFullLocation': 'SoHo, New York',\n",
       "  'headerLocation': 'SoHo',\n",
       "  'headerLocationGranularity': 'neighborhood',\n",
       "  'query': 'bread',\n",
       "  'suggestedBounds': {'ne': {'lat': 40.732263854627085,\n",
       "    'lng': -74.0042191170236},\n",
       "   'sw': {'lat': 40.729564194841636, 'lng': -74.001503104337}},\n",
       "  'suggestedFilters': {'filters': [{'key': 'specials',\n",
       "     'name': 'With specials'},\n",
       "    {'key': 'price', 'name': '$-$$$$'}],\n",
       "   'header': 'Tap to show:'},\n",
       "  'suggestedRadius': 600,\n",
       "  'totalResults': 211,\n",
       "  'warning': {'text': 'There aren\\'t a lot of results for \"bread.\" Try something more general, reset your filters, or expand the search area.'}}}"
      ]
     },
     "execution_count": 83,
     "metadata": {},
     "output_type": "execute_result"
    }
   ],
   "source": [
    "data"
   ]
  },
  {
   "cell_type": "code",
   "execution_count": null,
   "metadata": {
    "collapsed": true
   },
   "outputs": [],
   "source": []
  }
 ],
 "metadata": {
  "kernelspec": {
   "display_name": "Python 3",
   "language": "python",
   "name": "python3"
  },
  "language_info": {
   "codemirror_mode": {
    "name": "ipython",
    "version": 3
   },
   "file_extension": ".py",
   "mimetype": "text/x-python",
   "name": "python",
   "nbconvert_exporter": "python",
   "pygments_lexer": "ipython3",
   "version": "3.6.3"
  }
 },
 "nbformat": 4,
 "nbformat_minor": 2
}
